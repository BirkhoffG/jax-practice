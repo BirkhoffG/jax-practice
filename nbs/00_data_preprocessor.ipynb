{
 "cells": [
  {
   "cell_type": "code",
   "execution_count": null,
   "metadata": {},
   "outputs": [],
   "source": [
    "#| default_exp data_preprocessor"
   ]
  },
  {
   "cell_type": "markdown",
   "metadata": {},
   "source": [
    "# Data Preprocessing\n",
    "\n",
    "`DataPreprocessor` transforms *individual* features into numerical representations for the machine learning and recourse generation workflows. \n",
    "It can be considered as a drop-in jax-friendly replacement to the \n",
    "[sklearn.preprocessing](https://scikit-learn.org/stable/modules/classes.html#module-sklearn.preprocessing) module.\n",
    "The supported preprocessing methods include `MinMaxScaler` and `OneHotEncoder`. \n",
    "\n",
    "However, unlike the `DataPreprocessor` [sklearn.preprocessing](https://scikit-learn.org/stable/modules/classes.html#module-sklearn.preprocessing) module,\n",
    "all of the data preprocessors work only with single features (e.g., Dim: `(B, 1)`). \n"
   ]
  },
  {
   "cell_type": "code",
   "execution_count": null,
   "metadata": {},
   "outputs": [],
   "source": [
    "#| export\n",
    "from __future__ import annotations\n",
    "import jax\n",
    "import jax.numpy as jnp\n",
    "import numpy as np"
   ]
  },
  {
   "cell_type": "code",
   "execution_count": null,
   "metadata": {},
   "outputs": [],
   "source": [
    "import sklearn.preprocessing as skp\n",
    "from fastcore.test import test_fail\n",
    "from sklearn.compose import ColumnTransformer"
   ]
  },
  {
   "cell_type": "code",
   "execution_count": null,
   "metadata": {},
   "outputs": [],
   "source": [
    "#| export\n",
    "class DataPreprocessor:\n",
    "    \n",
    "    def fit(self, xs, y=None):\n",
    "        \"\"\"Fit the preprocessor with `xs` and `y`.\"\"\"\n",
    "        raise NotImplementedError\n",
    "    \n",
    "    def transform(self, xs):\n",
    "        \"\"\"Transform `xs`.\"\"\"\n",
    "        raise NotImplementedError\n",
    "    \n",
    "    def fit_transform(self, xs, y=None):\n",
    "        \"\"\"Fit the preprocessor with `xs` and `y`, then transform `xs`.\"\"\"\n",
    "        self.fit(xs, y)\n",
    "        return self.transform(xs)\n",
    "    \n",
    "    def inverse_transform(self, xs):\n",
    "        \"\"\"Inverse transform `xs`.\"\"\"\n",
    "        raise NotImplementedError\n"
   ]
  },
  {
   "cell_type": "code",
   "execution_count": null,
   "metadata": {},
   "outputs": [],
   "source": [
    "#| export\n",
    "def _check_xs(xs: np.ndarray, name: str):\n",
    "    \"\"\"Check if `xs` is a 1D array with shape (n_samples,) or a 2D array with shape (n_samples, 1).\"\"\"\n",
    "    if xs.ndim > 2 or (xs.ndim == 2 and xs.shape[1] != 1):\n",
    "        raise ValueError(f\"`{name}` only supports array with a single feature, but got shape={xs.shape}.\")"
   ]
  },
  {
   "cell_type": "code",
   "execution_count": null,
   "metadata": {},
   "outputs": [],
   "source": [
    "#| export\n",
    "class MinMaxScaler(DataPreprocessor):         \n",
    "    def fit(self, xs, y=None):\n",
    "        _check_xs(xs, name=\"MinMaxScaler\")\n",
    "        self.min_ = xs.min(axis=0)\n",
    "        self.max_ = xs.max(axis=0)\n",
    "        return self\n",
    "    \n",
    "    def transform(self, xs):\n",
    "        return (xs - self.min_) / (self.max_ - self.min_)\n",
    "    \n",
    "    def inverse_transform(self, xs):\n",
    "        return xs * (self.max_ - self.min_) + self.min_"
   ]
  },
  {
   "cell_type": "code",
   "execution_count": null,
   "metadata": {},
   "outputs": [],
   "source": [
    "#!!! Do not edit things below.\n",
    "# `xs` represents 100 data points with 1 feature.\n",
    "xs = np.random.randn(100, )\n",
    "scaler = MinMaxScaler()\n",
    "transformed_xs = scaler.fit_transform(xs)\n",
    "assert transformed_xs.shape == (100, )\n",
    "assert np.allclose(xs, scaler.inverse_transform(transformed_xs))\n",
    "# Test correctness \n",
    "assert np.allclose(\n",
    "    transformed_xs, \n",
    "    skp.MinMaxScaler().fit_transform(xs.reshape(100, 1)).reshape(100,)\n",
    ")\n",
    "# Can also represented in 2D array.\n",
    "xs = xs.reshape(100, 1)\n",
    "scaler = MinMaxScaler()\n",
    "transformed_xs = scaler.fit_transform(xs)\n",
    "assert np.allclose(xs, scaler.inverse_transform(transformed_xs))\n",
    "assert np.allclose(\n",
    "    transformed_xs, \n",
    "    skp.MinMaxScaler().fit_transform(xs.reshape(100, 1))\n",
    ")\n",
    "\n",
    "# It will fail if `xs` has more than 1 feature.\n",
    "xs = xs.reshape(50, 2)\n",
    "scaler = MinMaxScaler()\n",
    "test_fail(lambda: scaler.fit_transform(xs), \n",
    "          contains=\"`MinMaxScaler` only supports array with a single feature\")\n",
    "\n",
    "# The above implementation will fail here. Fix it.\n",
    "xs = np.ones((100, 1))\n",
    "scaler = MinMaxScaler()\n",
    "transformed_xs = scaler.fit_transform(xs)\n",
    "assert np.allclose(xs, scaler.inverse_transform(transformed_xs))\n",
    "assert np.allclose(\n",
    "    transformed_xs, \n",
    "    skp.MinMaxScaler().fit_transform(xs.reshape(100, 1))\n",
    ")"
   ]
  },
  {
   "cell_type": "code",
   "execution_count": null,
   "metadata": {},
   "outputs": [],
   "source": [
    "#| export\n",
    "class OneHotEncoder(DataPreprocessor):\n",
    "    \"\"\"One-hot encoder for a single categorical feature.\"\"\"\n",
    "    \n",
    "    def fit(self, xs, y=None):\n",
    "        \"\"\"Fit the OneHotEncoder with `xs`.\"\"\"\n",
    "        ...\n",
    "\n",
    "    def transform(self, xs):\n",
    "        \"\"\"Transform `xs`.\"\"\"\n",
    "        ...\n",
    "\n",
    "    def inverse_transform(self, xs):\n",
    "        \"\"\"Inverse transform `xs`.\"\"\"\n",
    "        ..."
   ]
  },
  {
   "cell_type": "code",
   "execution_count": null,
   "metadata": {},
   "outputs": [],
   "source": [
    "#!!! Do not edit things below.\n",
    "xs = np.random.choice([0, 1, 2], size=(100, 1))\n",
    "enc = OneHotEncoder().fit(xs)\n",
    "transformed_xs = enc.transform(xs)\n",
    "assert np.array_equal(\n",
    "    transformed_xs,\n",
    "    skp.OneHotEncoder(sparse=False).fit_transform(xs)\n",
    ")\n",
    "assert np.all(enc.inverse_transform(transformed_xs) == xs)\n",
    "\n",
    "xs = np.array([0, 1, 2, np.nan, 0, 1, 2, np.nan], dtype=object).reshape(-1, 1)\n",
    "enc = OneHotEncoder().fit(xs)\n",
    "transformed_xs = enc.transform(xs)\n",
    "assert np.array_equal(\n",
    "    transformed_xs,\n",
    "    skp.OneHotEncoder(sparse=False).fit_transform(xs)\n",
    ")\n",
    "assert np.all(enc.inverse_transform(transformed_xs) == xs.astype(str))\n",
    "\n",
    "# It will fail if `xs` has more than 1 feature.\n",
    "xs = xs.reshape(-1, 2)\n",
    "enc = OneHotEncoder()\n",
    "test_fail(lambda: enc.fit_transform(xs), \n",
    "          contains=\"`OneHotEncoder` only supports array with a single feature\")"
   ]
  },
  {
   "cell_type": "code",
   "execution_count": null,
   "metadata": {},
   "outputs": [],
   "source": [
    "#| export\n",
    "class Feature:\n",
    "    def __init__(\n",
    "        self,\n",
    "        name: str,\n",
    "        data: np.ndarray,\n",
    "        preprocessor: DataPreprocessor = None,\n",
    "    ):\n",
    "        self.name = name\n",
    "        self.data = data\n",
    "        self.preprocessor = preprocessor\n",
    "\n",
    "    def transform(self, xs):\n",
    "        ...\n",
    "\n",
    "    def inverse_transform(self, xs):\n",
    "        ..."
   ]
  },
  {
   "cell_type": "code",
   "execution_count": null,
   "metadata": {},
   "outputs": [],
   "source": [
    "#| export\n",
    "class FeaturesList:\n",
    "    def __init__(self, features: list[Feature]):\n",
    "        ...\n",
    "\n",
    "    def transform(self, xs):\n",
    "        ...\n",
    "\n",
    "    def inverse_transform(self, xs):\n",
    "        ..."
   ]
  },
  {
   "cell_type": "code",
   "execution_count": null,
   "metadata": {},
   "outputs": [],
   "source": [
    "#!!! Do not edit things below.\n",
    "train_xs = np.concatenate([\n",
    "    np.random.randn(100, 1), \n",
    "    np.random.choice([0, 1, 2], size=(100, 1)), \n",
    "    np.random.randn(100, 1), \n",
    "    np.random.choice([0, 1, np.nan], size=(100, 1)),\n",
    "], axis=-1)\n",
    "test_xs = np.concatenate([\n",
    "    np.random.randn(100, 1), \n",
    "    np.random.choice([0, 1, 2], size=(100, 1)), \n",
    "    np.random.randn(100, 1), \n",
    "    np.random.choice([0, 1, np.nan], size=(100, 1)),\n",
    "], axis=-1)\n",
    "\n",
    "feats = [\n",
    "    Feature(\"a\", train_xs[:, 0], MinMaxScaler()),\n",
    "    Feature(\"b\", train_xs[:, 1], OneHotEncoder()),\n",
    "    Feature(\"c\", train_xs[:, 2], MinMaxScaler()),\n",
    "    Feature(\"d\", train_xs[:, -1], OneHotEncoder()),\n",
    "]\n",
    "feats_list = FeaturesList(feats)\n",
    "transformed_xs = feats_list.transform(test_xs)\n",
    "assert transformed_xs.shape == (100, 8)\n",
    "inv_xs = feats_list.inverse_transform(transformed_xs)\n",
    "assert np.allclose(test_xs, inv_xs)"
   ]
  },
  {
   "cell_type": "code",
   "execution_count": null,
   "metadata": {},
   "outputs": [],
   "source": [
    "#!!! Do not edit things below.\n",
    "ct = ColumnTransformer([\n",
    "    (\"a\", skp.MinMaxScaler(), [0]),\n",
    "    (\"b\", skp.OneHotEncoder(), [1]),\n",
    "    (\"c\", skp.MinMaxScaler(), [2]),\n",
    "    (\"d\", skp.OneHotEncoder(), [3]),\n",
    "])\n",
    "sk_transformed_xs = ct.fit_transform(test_xs)\n",
    "assert np.allclose(transformed_xs, sk_transformed_xs)"
   ]
  }
 ],
 "metadata": {
  "kernelspec": {
   "display_name": "python3",
   "language": "python",
   "name": "python3"
  }
 },
 "nbformat": 4,
 "nbformat_minor": 4
}
