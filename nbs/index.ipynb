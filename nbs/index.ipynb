{
 "cells": [
  {
   "cell_type": "markdown",
   "metadata": {},
   "source": [
    "# Practice Questions of JAX\n"
   ]
  },
  {
   "cell_type": "markdown",
   "metadata": {},
   "source": [
    "This is a practice project for demonstrating your familiarity of JAX.\n",
    "\n",
    "It contains following small projects:\n",
    "\n",
    "* [00_data_preprocessor.ipynb](00_data_preprocessor.ipynb)\n"
   ]
  },
  {
   "cell_type": "markdown",
   "metadata": {},
   "source": [
    "## How to Get Started\n",
    "\n",
    "1. Clone this repo:\n",
    "\n",
    "```sh\n",
    "git clone https://github.com/BirkhoffG/jax-practice.git\n",
    "```\n",
    "\n",
    "2. Install all the dependencies:\n",
    "\n",
    "```sh\n",
    "cd jax-practice\n",
    "pip install -e \".[dev]\"\n",
    "```\n",
    "\n",
    "3. Start working on these small projects by editing the code in the jupyter notebook.\n",
    "\n",
    "4. Once it is done, create a pull request."
   ]
  },
  {
   "cell_type": "markdown",
   "metadata": {},
   "source": [
    "## Some Helpful Tips\n",
    "\n",
    "* We are using [nbdev](https://nbdev.fast.ai/)\n",
    "for our library development. This repo is also\n",
    "based on `nbdev`. It will be helpful to know what \n",
    "these comments are: `nbdev_export`, `nbdev_clean`,\n",
    "`nbdev_test`. \n",
    "    * This tutorial is a good start in learning `nbdev`: https://nbdev.fast.ai/tutorials/tutorial.html\n",
    "    * Learn how to use `nbdev` in `jax-relax`: https://birkhoffg.github.io/jax-relax/tutorials/contribution.html"
   ]
  }
 ],
 "metadata": {
  "kernelspec": {
   "display_name": "python3",
   "language": "python",
   "name": "python3"
  }
 },
 "nbformat": 4,
 "nbformat_minor": 4
}
