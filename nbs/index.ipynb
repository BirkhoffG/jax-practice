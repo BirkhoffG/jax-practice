{
 "cells": [
  {
   "cell_type": "markdown",
   "metadata": {},
   "source": [
    "# Practice Questions of JAX\n"
   ]
  },
  {
   "cell_type": "markdown",
   "metadata": {},
   "source": [
    "This is a practice project for demonstrating your familiarity of JAX.\n",
    "\n",
    "It contains following small projects:\n",
    "\n",
    "* [00_data_preprocessor.ipynb](00_data_preprocessor.ipynb)\n"
   ]
  },
  {
   "cell_type": "markdown",
   "metadata": {},
   "source": [
    "## How to Get Started\n",
    "\n",
    "1. Clone this repo:\n",
    "\n",
    "```sh\n",
    "git clone https://github.com/BirkhoffG/jax-practice.git\n",
    "```\n",
    "\n",
    "2. Install all the dependencies:\n",
    "\n",
    "```sh\n",
    "cd jax-practice\n",
    "pip install -e \".[dev]\"\n",
    "```\n",
    "\n",
    "3. Start working on these small projects.\n"
   ]
  }
 ],
 "metadata": {
  "kernelspec": {
   "display_name": "python3",
   "language": "python",
   "name": "python3"
  }
 },
 "nbformat": 4,
 "nbformat_minor": 4
}
